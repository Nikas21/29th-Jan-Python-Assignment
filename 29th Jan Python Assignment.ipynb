{
 "cells": [
  {
   "cell_type": "markdown",
   "id": "88cf0b84-5657-458a-98b9-c39b1069df4a",
   "metadata": {},
   "source": [
    "Q1Who developed python programming language\n",
    "\n",
    "Ans Guido van Rossum"
   ]
  },
  {
   "cell_type": "markdown",
   "id": "b7b0b0a5-cc9d-46b5-8ed2-019c35c063a5",
   "metadata": {},
   "source": [
    "Q2 Which type of programming does python support\n",
    "\n",
    "Ans Object-oriented programming and structured programming are fully supported"
   ]
  },
  {
   "cell_type": "markdown",
   "id": "694c978e-308e-40c6-a149-ec7ad1379d78",
   "metadata": {},
   "source": [
    "Q3 Is python a case sensitive when dealing with identifiers \n",
    "\n",
    "AnsYes, Python is a case-sensitive language"
   ]
  },
  {
   "cell_type": "markdown",
   "id": "53913b0e-0374-4830-8300-b4e2160a33b7",
   "metadata": {},
   "source": [
    "Q4 What is the correct extension of the python file\n",
    "\n",
    "Ans Python is a widely used programming or coding language used for different purposes. The extensions for Python files are - .py, .pyi, .pyc, .pyd, .pyo, .pyw, and .pyz."
   ]
  },
  {
   "cell_type": "markdown",
   "id": "3547dec6-1508-4b97-a10e-b255e9d7bd56",
   "metadata": {},
   "source": [
    "Q5 Is python code compiled or interpreted\n",
    "\n",
    "Ans Python is an interpreted language, which means the source code of a Python program is converted into bytecode that is then executed by the Python virtual machine. Python is different from major compiled languages, such as C and C + +, as Python code is not required to be built and linked like code for these languages."
   ]
  },
  {
   "cell_type": "markdown",
   "id": "17e5eeed-13b3-422f-99cf-3ccb20ec0f61",
   "metadata": {},
   "source": [
    "Q6 Name a few blocks of code used to define in python language\n",
    "\n",
    "Ans Indentation is used to define a block of code in python. Braces {} are used to define a block of code in most programming languages, like C, C++, and Java."
   ]
  },
  {
   "cell_type": "markdown",
   "id": "df241f6e-2f18-430a-8e39-052a2910fe95",
   "metadata": {},
   "source": [
    "Q7 State a character used to give single-line comments in python \n",
    "Ans We can write a single-line comment by adding a single # character before any statement or line of code."
   ]
  },
  {
   "cell_type": "code",
   "execution_count": null,
   "id": "e3fa96b3-1c02-4425-b62f-f2089124c899",
   "metadata": {},
   "outputs": [],
   "source": [
    "Q8 Mention functions which can help us to find the version of python that we are currently working on?\n",
    "Ans The function sys. version can help us to find the version of python that we are currently working on.Q8 Mention functions which can help us to find the version of python that we are currently working on?\n",
    "Ans The function sys. version can help us to find the version of python that we are currently working on."
   ]
  },
  {
   "cell_type": "code",
   "execution_count": null,
   "id": "342f8585-f4a2-4f43-882f-ffb861f9ad47",
   "metadata": {},
   "outputs": [],
   "source": [
    "Q9 python supports the creation of anonymous functions at runtime using a constrant called?\n",
    "Ans lambda keyword is used to define anonymous functions?"
   ]
  },
  {
   "cell_type": "code",
   "execution_count": null,
   "id": "19e4a162-61f4-4dc7-bbaa-5de7e268e9b4",
   "metadata": {},
   "outputs": [],
   "source": [
    "Q10 What does pip stand for python\n",
    "Ans pip Install Packages"
   ]
  },
  {
   "cell_type": "code",
   "execution_count": null,
   "id": "c16a63eb-0890-4935-879f-7bebdef126af",
   "metadata": {},
   "outputs": [],
   "source": [
    "Q11 Mention a few built-in functions in python\n",
    "Ans bin()\tReturns the binary version of a number\n",
    "bool()\tReturns the boolean value of the specified object\n",
    "bytearray()\tReturns an array of bytes\n",
    "bytes()\tReturns a bytes object"
   ]
  },
  {
   "cell_type": "code",
   "execution_count": null,
   "id": "d4283e33-49ce-44c5-9b19-ea4dcb8508d3",
   "metadata": {},
   "outputs": [],
   "source": [
    "Q12 What is the maximum possible length of an identifier in python\n",
    "Ans An identifier can have a maximum length of 79 characters in Python."
   ]
  },
  {
   "cell_type": "code",
   "execution_count": null,
   "id": "39abbd1f-9d72-4650-ab1b-0810282f55e6",
   "metadata": {},
   "outputs": [],
   "source": [
    "Q13 What are benefits of using python\n",
    "Ans Top Reasons to Learn Python\n",
    "Data science.\n",
    "Scientific and mathematical computing.\n",
    "Web development.\n",
    "Finance and trading.\n",
    "System automation and administration.\n",
    "Computer graphics.\n",
    "Basic game development.\n",
    "Security and penetration testing."
   ]
  },
  {
   "cell_type": "code",
   "execution_count": null,
   "id": "d7635316-55c2-4a32-9470-69a696e86471",
   "metadata": {},
   "outputs": [],
   "source": [
    "Q14 How is memory managed in python\n",
    "Ans Memory management in Python involves a private heap containing all Python objects and data structures. The management of this private heap is ensured internally by the Python memory manager."
   ]
  },
  {
   "cell_type": "code",
   "execution_count": null,
   "id": "41a79673-05f0-429e-8b85-a3292502fbad",
   "metadata": {},
   "outputs": [],
   "source": [
    "Q15 how to install python on windows and set path variable\n",
    "Ans The complete path of python.exe can be added by:\n",
    "\n",
    "Right-clicking This PC and going to Properties.\n",
    "\n",
    "Clicking on the Advanced system settings in the menu on the left.\n",
    "\n",
    "Clicking on the Environment Variables button o​n the bottom right.\n",
    "\n",
    "In the System variables section, selecting the Path variable and clicking on Edit. The next screen will show all the directories that are currently a part of the PATH variable.\n",
    "\n",
    "Clicking on New and entering Python’s install directory."
   ]
  },
  {
   "cell_type": "markdown",
   "id": "a185c44b-266c-4dc4-9f19-0a45d18d7ee6",
   "metadata": {},
   "source": [
    "Q16 Is indentation required in python\n",
    "Ans Indentation refers to the spaces at the beginning of a code line. Where in other programming languages the indentation in code is for readability only, the indentation in Python is very important. Python uses indentation to indicate a block of code."
   ]
  }
 ],
 "metadata": {
  "kernelspec": {
   "display_name": "Python 3 (ipykernel)",
   "language": "python",
   "name": "python3"
  },
  "language_info": {
   "codemirror_mode": {
    "name": "ipython",
    "version": 3
   },
   "file_extension": ".py",
   "mimetype": "text/x-python",
   "name": "python",
   "nbconvert_exporter": "python",
   "pygments_lexer": "ipython3",
   "version": "3.10.8"
  }
 },
 "nbformat": 4,
 "nbformat_minor": 5
}
